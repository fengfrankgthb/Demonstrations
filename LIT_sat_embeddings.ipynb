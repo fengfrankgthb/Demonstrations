{
  "cells": [
    {
      "cell_type": "markdown",
      "metadata": {
        "id": "view-in-github",
        "colab_type": "text"
      },
      "source": [
        "<a href=\"https://colab.research.google.com/github/fengfrankgthb/Demonstrations/blob/main/LIT_sat_embeddings.ipynb\" target=\"_parent\"><img src=\"https://colab.research.google.com/assets/colab-badge.svg\" alt=\"Open In Colab\"/></a>"
      ]
    },
    {
      "cell_type": "markdown",
      "metadata": {
        "id": "h2c6PyqQaNiA"
      },
      "source": [
        "# Using the Learning Interpretability Tool in Notebooks\n",
        "\n",
        "This notebook shows use of the [Learning Interpretability Tool](https://pair-code.github.io/lit) on a binary classifier for labelling statement sentiment (0 for negative, 1 for positive).\n",
        "\n",
        "The LitWidget object constructor takes a dict mapping model names to model objects, and a dict mapping dataset names to dataset objects. Those will be the datasets and models displayed in LIT. Running the constructor will cause the LIT server to be started in the background, loading the models and datasets and enabling the UI to be served.\n",
        "\n",
        "Render the LIT UI in an output cell by calling the `render` method on the LitWidget object. The LIT UI can be rendered multiple times in separate cells if desired. The widget also contains a `stop` method to shut down the LIT server.\n",
        "\n",
        "Copyright 2020 Google LLC.\n",
        "SPDX-License-Identifier: Apache-2.0"
      ]
    },
    {
      "metadata": {
        "id": "k5QzhJlsq9_U"
      },
      "cell_type": "code",
      "source": [
        "# Step 1: Install LIT\n",
        "# This will install lit-nlp and its compatible dependencies, including a suitable numpy version.\n",
        "!pip install lit-nlp"
      ],
      "outputs": [],
      "execution_count": null
    },
    {
      "cell_type": "code",
      "execution_count": null,
      "metadata": {
        "id": "tthVhLoIq9_U"
      },
      "outputs": [],
      "source": [
        "# Step 2: Import necessary modules\n",
        "import os\n",
        "import csv\n",
        "import time # For adding a small delay before rendering\n",
        "from lit_nlp import notebook\n",
        "from lit_nlp.examples.glue import models # We'll use the SST2Model\n",
        "from lit_nlp.api import dataset as lit_dataset # For creating custom datasets\n",
        "from lit_nlp.api import types as lit_types # For defining dataset specifications\n",
        "from absl import logging\n",
        "\n",
        "# Step 3: Configure Logging\n",
        "# Set to INFO for more detailed output, helpful for debugging.\n",
        "logging.set_verbosity(logging.INFO)"
      ]
    },
    {
      "cell_type": "code",
      "execution_count": null,
      "metadata": {
        "id": "AWhbAZg57RpB"
      },
      "outputs": [],
      "source": [
        "# Step 4: Download and Extract Pre-trained Model\n",
        "!wget -nc https://storage.googleapis.com/what-if-tool-resources/lit-models/sst2_tiny.tar.gz\n",
        "!tar -xvf sst2_tiny.tar.gz # Extra model files"
      ]
    },
    {
      "cell_type": "code",
      "source": [
        "# Step 5: Load the LIT Model\n",
        "# The path './' assumes model files (e.g., sst2_tiny.tflite, vocab.txt) are in the current directory\n",
        "# or a subdirectory structure that SST2Model expects relative to './'.\n",
        "# If 'tar -xvf' creates a directory like 'sst2_tiny/', change model_path to './sst2_tiny/'.\n",
        "model_path = './'\n",
        "try:\n",
        "    loaded_sst_model = models.SST2Model(model_path)\n",
        "    lit_models = {'sst_tiny_sentiment': loaded_sst_model}\n",
        "    print(f\"LIT Model loaded successfully from '{model_path}'.\")\n",
        "    # To verify embeddings are available (they should be for SST2Model):\n",
        "    # print(\"Model output_spec:\", loaded_sst_model.output_spec())\n",
        "except Exception as e:\n",
        "    print(f\"Error loading SST2Model from path '{model_path}': {e}\")\n",
        "    print(\"Please ensure model files are correctly extracted and accessible.\")\n",
        "    raise"
      ],
      "metadata": {
        "id": "1_4n0QBt-vvb"
      },
      "execution_count": null,
      "outputs": []
    },
    {
      "cell_type": "code",
      "source": [
        "# Step 6: Load Your Custom \"sat_dev.csv\" Dataset\n",
        "csv_file_path = \"sat_dev.csv\"  # Your CSV file name\n",
        "sentence_col_name = \"sentence\" # The header name for the sentence column in your CSV\n",
        "# number_col_name = \"number\" # The header name for the number column (used if needed)\n",
        "\n",
        "custom_examples = []\n",
        "# Define the input specification for the dataset, matching the model's input.\n",
        "# SST2Model expects a 'sentence' field.\n",
        "dataset_spec = {'sentence': lit_types.TextSegment()}\n",
        "# If your CSV also had labels you wanted to use, you'd add them to the spec, e.g.:\n",
        "# dataset_spec['label'] = lit_types.CategoryLabel(vocab=loaded_sst_model.output_spec()['label'].vocab)\n",
        "\n",
        "\n",
        "if os.path.exists(csv_file_path):\n",
        "    print(f\"Loading dataset from: {csv_file_path}\")\n",
        "    try:\n",
        "        with open(csv_file_path, 'r', encoding='utf-8', newline='') as file:\n",
        "            reader = csv.DictReader(file)\n",
        "            if sentence_col_name not in reader.fieldnames:\n",
        "                print(f\"ERROR: Sentence column '{sentence_col_name}' not found in CSV headers: {reader.fieldnames}\")\n",
        "                print(f\"Please ensure your CSV has a column named '{sentence_col_name}'.\")\n",
        "            else:\n",
        "                for row_num, row_data in enumerate(reader):\n",
        "                    sentence_text = row_data.get(sentence_col_name, \"\").strip()\n",
        "                    if sentence_text:\n",
        "                        example = {'sentence': sentence_text}\n",
        "                        # If you were using the 'number' column or labels, you'd add them here:\n",
        "                        # example['number_id'] = row_data.get(number_col_name, \"\")\n",
        "                        # example['label'] = row_data.get(label_col_name, \"\") # if using labels\n",
        "                        custom_examples.append(example)\n",
        "                    # else: # Optional: handle empty sentences if necessary\n",
        "                    #     print(f\"Warning: Empty sentence found at row {row_num + 1}.\")\n",
        "        print(f\"Successfully loaded {len(custom_examples)} examples from '{csv_file_path}'.\")\n",
        "        if not custom_examples:\n",
        "             print(f\"Warning: No examples were loaded. Check if the '{sentence_col_name}' column has data or if the file is empty.\")\n",
        "\n",
        "    except Exception as e:\n",
        "        print(f\"Error reading CSV file '{csv_file_path}': {e}\")\n",
        "        print(\"An empty dataset will be used as a fallback.\")\n",
        "else:\n",
        "    print(f\"WARNING: Dataset file '{csv_file_path}' not found.\")\n",
        "    print(\"Please ensure the file exists in the same directory as your notebook, or provide the correct path.\")\n",
        "    print(\"An empty dataset will be used as a fallback.\")\n",
        "\n",
        "# Create the LIT Dataset object\n",
        "lit_datasets = {\n",
        "    'sat_dev_custom': lit_dataset.Dataset(spec=dataset_spec, examples=custom_examples, description=f\"Custom data loaded from {csv_file_path}\")\n",
        "}"
      ],
      "metadata": {
        "id": "jw1HZrjP-91h"
      },
      "execution_count": null,
      "outputs": []
    },
    {
      "cell_type": "code",
      "source": [
        "# Step 7: Define the Custom UI Layout for the Widget\n",
        "# This layout ensures the data table, editor, classification, and embeddings modules are visible.\n",
        "ui_layout_config = {\n",
        "    \"MyCustomAnalysisView\": { # Name for this layout configuration\n",
        "        \"components\": [\n",
        "            {\"tabs\": [ # Using a tabbed interface for organization\n",
        "                {\n",
        "                    \"title\": \"Data Overview & Predictions\",\n",
        "                    \"components\": [\n",
        "                        {\"module\": \"data-table\"},        # To display your loaded CSV data\n",
        "                        {\"module\": \"datapoint-editor\"},  # To inspect/edit individual data points\n",
        "                        {\"module\": \"classification-module\"} # To see model predictions\n",
        "                    ]\n",
        "                },\n",
        "                {\n",
        "                    \"title\": \"Embedding Visualizations\",\n",
        "                    \"components\": [\n",
        "                        {\"module\": \"embeddings\"} # This module provides UMAP and PCA plots\n",
        "                    ]\n",
        "                }\n",
        "            ]}\n",
        "        ]\n",
        "    }\n",
        "}"
      ],
      "metadata": {
        "id": "a8kAfbo5_U9h"
      },
      "execution_count": null,
      "outputs": []
    },
    {
      "cell_type": "code",
      "source": [
        "# Step 8: Create and Render the LIT Widget\n",
        "lit_port_number = 8890 # You can change this if the port is in use\n",
        "print(f\"Attempting to initialize LIT on port: {lit_port_number}\")\n",
        "\n",
        "lit_widget = notebook.LitWidget(\n",
        "    models=lit_models,\n",
        "    datasets=lit_datasets,\n",
        "    port=lit_port_number,\n",
        "    layouts=ui_layout_config, # Apply the custom layout\n",
        "    server_flags={'--default_layout': \"MyCustomAnalysisView\"} # Set custom layout as default\n",
        ")\n",
        "\n",
        "print(\"Waiting a moment for the LIT server to start...\")\n",
        "time.sleep(3) # Brief pause to allow server initialization\n",
        "\n",
        "print(\"Rendering LIT widget in a new browser tab...\")\n",
        "lit_widget.render_in_new_tab()\n",
        "print(f\"LIT widget render_in_new_tab() called. A new browser tab should open to http://localhost:{lit_port_number}\")\n",
        "print(\"If the UI doesn't appear or is frozen, check the logs above for any errors.\")"
      ],
      "metadata": {
        "id": "sonSCkcW_Ye5"
      },
      "execution_count": null,
      "outputs": []
    },
    {
      "cell_type": "markdown",
      "metadata": {
        "id": "dwYz8o1dq9_U"
      },
      "source": [
        "If you've found interesting examples using the LIT UI, you can access these in Python using `widget.ui_state`:"
      ]
    },
    {
      "cell_type": "code",
      "execution_count": null,
      "metadata": {
        "id": "HRtO27puq9_U"
      },
      "outputs": [],
      "source": [
        "widget.ui_state.primary  # the main selected datapoint"
      ]
    },
    {
      "cell_type": "code",
      "execution_count": null,
      "metadata": {
        "id": "J-XT048tq9_U"
      },
      "outputs": [],
      "source": [
        "widget.ui_state.selection  # the full selected set, if you have multiple points selected"
      ]
    },
    {
      "cell_type": "code",
      "execution_count": null,
      "metadata": {
        "id": "6gxrwk-Bq9_U"
      },
      "outputs": [],
      "source": [
        "widget.ui_state.pinned  # the pinned datapoint, if you use the 📌 icon or comparison mode"
      ]
    },
    {
      "cell_type": "markdown",
      "metadata": {
        "id": "RndbhKC9q9_U"
      },
      "source": [
        "Note that these include some metadata; the bare example is in the `['data']` field for each record:"
      ]
    },
    {
      "cell_type": "code",
      "execution_count": null,
      "metadata": {
        "id": "jbEVvUK6q9_U"
      },
      "outputs": [],
      "source": [
        "widget.ui_state.primary['data']"
      ]
    },
    {
      "cell_type": "code",
      "execution_count": null,
      "metadata": {
        "id": "Pt3djyXPq9_U"
      },
      "outputs": [],
      "source": [
        "[ex['data'] for ex in widget.ui_state.selection]"
      ]
    },
    {
      "cell_type": "code",
      "execution_count": null,
      "metadata": {
        "id": "u03ZgGlAq9_U"
      },
      "outputs": [],
      "source": []
    }
  ],
  "metadata": {
    "colab": {
      "name": "LIT in Notebooks",
      "provenance": [],
      "include_colab_link": true
    },
    "kernelspec": {
      "display_name": "Python 3 (ipykernel)",
      "language": "python",
      "name": "python3"
    },
    "language_info": {
      "codemirror_mode": {
        "name": "ipython",
        "version": 3
      },
      "file_extension": ".py",
      "mimetype": "text/x-python",
      "name": "python",
      "nbconvert_exporter": "python",
      "pygments_lexer": "ipython3",
      "version": "3.9.15"
    }
  },
  "nbformat": 4,
  "nbformat_minor": 0
}