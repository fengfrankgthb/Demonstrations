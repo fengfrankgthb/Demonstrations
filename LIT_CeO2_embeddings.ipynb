{
  "cells": [
    {
      "cell_type": "markdown",
      "metadata": {
        "id": "view-in-github",
        "colab_type": "text"
      },
      "source": [
        "<a href=\"https://colab.research.google.com/github/fengfrankgthb/Demonstrations/blob/main/LIT_CeO2_embeddings.ipynb\" target=\"_parent\"><img src=\"https://colab.research.google.com/assets/colab-badge.svg\" alt=\"Open In Colab\"/></a>"
      ]
    },
    {
      "cell_type": "markdown",
      "metadata": {
        "id": "h2c6PyqQaNiA"
      },
      "source": [
        "# Showing text embeddings 2025.05.18\n",
        "\n",
        "## 1. Install Necessary Libraries\n",
        "* **sentence-transformers** This is the text embedding library\n",
        "* **scikit-learn** This is the machine learning library\n",
        "* **matplotlib** This is the mat-lab style plotting library"
      ]
    },
    {
      "cell_type": "code",
      "source": [
        "!pip install sentence-transformers scikit-learn matplotlib"
      ],
      "metadata": {
        "id": "158mSJto-mYD"
      },
      "execution_count": null,
      "outputs": []
    },
    {
      "cell_type": "markdown",
      "source": [
        "## 2. import necessary modules from the libraries\n",
        "\n"
      ],
      "metadata": {
        "id": "jd2Yqvua_ktp"
      }
    },
    {
      "cell_type": "markdown",
      "source": [
        "**mpl_toolkits.mplot3d**: matplot 3D plotting lib\n",
        "\n",
        "**numpy**: Numerical Python, the fundamental python lib\n",
        "\n",
        "**Axes3D** 3D plotting class\n",
        "\n",
        "**PCA** Principal Components Analysis for linear dimension reduction.\n",
        "\n",
        "**TSNE** t-SNE non-linear dimension reduction to creat more scattered effect"
      ],
      "metadata": {
        "id": "XPORFA-auaqW"
      }
    },
    {
      "cell_type": "code",
      "source": [
        "import matplotlib.pyplot as plt\n",
        "from mpl_toolkits.mplot3d import Axes3D\n",
        "from sentence_transformers import SentenceTransformer\n",
        "from sklearn.decomposition import PCA\n",
        "from sklearn.manifold import TSNE\n",
        "import numpy as np\n",
        "\n",
        "# set matplot to inline (static) mode, or notebook for interactive mode)\n",
        "# even though default is inline mode, be explicit to avoid any confusion\n",
        "# the interactive notebook mode is often unstable at colab environment\n",
        "# alternative is set as 'inline' and use 'plotly'.\n",
        "%matplotlib inline"
      ],
      "metadata": {
        "id": "d8ArIZFq_uxp"
      },
      "execution_count": null,
      "outputs": []
    },
    {
      "cell_type": "markdown",
      "source": [
        "## 3. Imput text data (CeO2 Sample)\n",
        "\n",
        "Used *118HHH Q1 on CeO2-NPs* for illustration, breaking into 9 components:\n",
        "\n",
        "* Pa = All Sentences combined in Prompt\n",
        "* P1 = 1st sentence in Prompt\n",
        "* P2 = 2nd sentence in Prompt\n",
        "* P3 = 3rd sentence in Prompt\n",
        "* Q? = the Question sentence\n",
        "* Ax = wrong choice A\n",
        "* Bv = correct answer B\n",
        "* Cx = wrong choice C\n",
        "* Dx = wrong choice D"
      ],
      "metadata": {
        "id": "6NTtMzbl_5f6"
      }
    },
    {
      "cell_type": "code",
      "source": [
        "sentences = [\"Pa: Some fuel additives contain cerium oxide nanoparticles (CeO2-NPs), which can leach into waterways and soils via waste water. In a 2015 study Mael Garaud and colleagues found that CeO2-NPs can accumulate in the bodies of zebra mussels (Dreissena polymorpha). While bioaccumulation of manufactured nanoparticles may be inherently worrisome, it has been hypothesized that CeO2-NPs bioaccumulation in invertebrate like D. polymorpha could serve a valuable proxy role, observing the need for manufacturers to conduct costly and intrusive sampling of vertebrate species--such as rainbow trout (Oncorhynchus mykiss), commonly used in regulatory compliance testing--for manipulative bioaccumulation, as environmental protection laws currently require.\",\n",
        "    \"P1: Some fuel additives contain cerium oxide nanoparticles (CeO2-NPs), which can leach into waterways and soils via waste water.\",\n",
        "    \"P2: In a 2015 study Mael Garaud and colleagues found that CeO2-NPs can accumulate in the bodies of zebra mussels (Dreissena polymorpha).\",\n",
        "    \"P3: While bioaccumulation of manufactured nanoparticles may be inherently worrisome, it has been hypothesized that CeO2-NPs bioaccumulation in invertebrate like D. polymorpha could serve a valuable proxy role, observing the need for manufacturers to conduct costly and intrusive sampling of vertebrate species--such as rainbow trout (Oncorhynchus mykiss), commonly used in regulatory compliance testing--for manipulative bioaccumulation, as environmental protection laws currently require.\",\n",
        "    \"Q?: Which finding, if true, would most directly weaken the hypothesis presented in the text?\",\n",
        "    \"Ax) When D. polymorpha and O. mykiss are exposed to similar levels of CeO2-NPs, concentrations of CeO2-NPs in animals of both species show little variation from individual to individual.\",\n",
        "    \"Bv) The rate of CeO2-NPs uptake in D. polymorpha differs from the rate of CeO2-NPs uptake in O. mykiss in a way that is not yet well understood by researchers.\",\n",
        "    \"Cx) D.polymorpha has been shown to accumulate several other types of manufactured nanoparticles in addition to CeO2-NPs, whereas O. mykiss has been shown to accumulate only CeO2-NPs.\",\n",
        "    \"Dx) Compared with O. mykiss, D.polymorpha can accumulate detectable CeO2-NPs concentrations with significantly fewer negative effects.\"\n",
        "]"
      ],
      "metadata": {
        "id": "xFnLqNPQ_-54"
      },
      "execution_count": null,
      "outputs": []
    },
    {
      "cell_type": "markdown",
      "source": [
        "## 4. Generate Embeddings for CeO2 Sample Sentences.\n",
        "\n",
        "Used a pre-trained Sentence Transformer model, `all-mpnet-base-v2`, to generate embeddings for each sentence. This model is a good general-purpose choice, with mapping of sentences & paragraphs to a **768** dimensional dense vector space and can be used for tasks like clustering or semantic search.\n",
        "\n",
        "`all-mpnet-base-v2`: is a sentence transformer model that converts sentences and paragraphs into numerical vectors. These vectors, called embeddings, capture the semantic meaning of the text.\n",
        "\n",
        "**Key Features and What it's Used For**:\n",
        "* Sentence Embeddings: The model takes a sentence (or short paragraph) as input and produces a dense vector representation.\n",
        "* 768 Dimensions: is a common dimensionality for these types of models.\n",
        "* MPNet Architecture: is a model that combines the strengths of BERT and XLNet to better understand word order and context.\n",
        "* General Purpose: `all-mpnet-base-v2` is designed to be a general-purpose model, meaning it performs well on a variety of tasks.\n",
        "\n",
        "**Common Applications**:\n",
        "* Semantic Search: Finding sentences or documents with similar meanings.\n",
        "* Information Retrieval: Pulling up relevant information based on a text query.\n",
        "* Clustering: Grouping sentences or paragraphs with similar meanings.\n",
        "* Sentence Similarity: Measuring how alike two pieces of text are.\n",
        "\n",
        "**How to Use It** (in Python with Sentence Transformers):\n",
        "\n",
        "    from sentence_transformers import SentenceTransformer\n",
        "    model = SentenceTransformer('all-mpnet-base-v2')\n",
        "        sentences = [\n",
        "        \"This is a simple example.\",\n",
        "        \"Here is another sentence.\",\n",
        "        \"A third sentence for demonstration.\"\n",
        "    ]\n",
        "    embeddings = model.encode(sentences)\n",
        "    print(embeddings)  # Output: A list of 768-dimensional vectors\n",
        "\n",
        "**Why is it Popular?**\n",
        "* Inclusive dataset: a massive dataset of over 1 billion sentence pairs from\n",
        "Natural Language Inference (NLI) datasets, Paraphrase datasets, and a large collection of other published English data from various sources.\n",
        "* Good Performance: It generally ranks high in accuracy for many semantic text understanding tasks.\n",
        "* Efficiency: While very effective, it's also relatively efficient to use.\n",
        "* Ease of Use: Libraries like Sentence Transformers make it very easy to download and use."
      ],
      "metadata": {
        "id": "mFQ_kUZAA5RR"
      }
    },
    {
      "cell_type": "code",
      "source": [
        "# Load the pre-trained model\n",
        "model = SentenceTransformer('all-mpnet-base-v2')\n",
        "\n",
        "# Generate the embeddings\n",
        "embeddings = model.encode(sentences)\n",
        "\n",
        "print(\"Shape of embeddings:\", embeddings.shape)\n",
        "print(\"Example embedding (first sentence):\\n\", embeddings[0][:20]) # Print the first 20 dimensions"
      ],
      "metadata": {
        "id": "O_TbU_wZBkSR"
      },
      "execution_count": null,
      "outputs": []
    },
    {
      "cell_type": "markdown",
      "source": [
        "## 5. Reduce Dimensionality: 2D with PCA\n",
        "\n",
        "**PCA** = principal component analysis.\n",
        "\n",
        "Principal Components are composite dimensions from the existing 768-dimention embedding dataset. It helps to reduce dimensions while maintaning the most variances mathematically, thus being able to discern the most of datapoints. The ability to discern things is simply the intelligence, or smartness."
      ],
      "metadata": {
        "id": "ocb8gsESB1VI"
      }
    },
    {
      "cell_type": "code",
      "source": [
        "# Reduce to 2 dimensions using PCA\n",
        "pca_2d = PCA(n_components=2)\n",
        "reduced_embeddings_2d = pca_2d.fit_transform(embeddings)\n",
        "\n",
        "# Visualize the 2D embeddings\n",
        "plt.figure(figsize=(4, 3))\n",
        "plt.scatter(reduced_embeddings_2d[:, 0], reduced_embeddings_2d[:, 1])\n",
        "\n",
        "# Annotate each point with the corresponding sentence\n",
        "for i, txt in enumerate(sentences):\n",
        "    plt.annotate(txt[:2], (reduced_embeddings_2d[i, 0], reduced_embeddings_2d[i, 1]))\n",
        "\n",
        "plt.title(\"2D Visualization of Sentence Embeddings (PCA)\")\n",
        "plt.xlabel(\"PC 1\")\n",
        "plt.ylabel(\"PC 2\")\n",
        "plt.grid(True)\n",
        "plt.show()"
      ],
      "metadata": {
        "id": "fJeP42tQCDmu"
      },
      "execution_count": null,
      "outputs": []
    },
    {
      "cell_type": "markdown",
      "source": [
        "## 6. Reduce Dimensionality: 3D with PCA\n",
        "\n",
        "### 6.1 3D PCA static"
      ],
      "metadata": {
        "id": "uc8WbutRCRBn"
      }
    },
    {
      "cell_type": "code",
      "source": [
        "# Reduce to 3 dimensions using PCA\n",
        "pca_3d = PCA(n_components=3)\n",
        "reduced_embeddings_3d = pca_3d.fit_transform(embeddings)\n",
        "\n",
        "# Visualize the 3D embeddings\n",
        "fig_3d = plt.figure(figsize=(8, 6))\n",
        "ax_3d = fig_3d.add_subplot(111, projection='3d')\n",
        "scatter_3d = ax_3d.scatter(reduced_embeddings_3d[:, 0], reduced_embeddings_3d[:, 1], reduced_embeddings_3d[:, 2])\n",
        "\n",
        "# Annotate each point with the corresponding sentence\n",
        "for i, txt in enumerate(sentences):\n",
        "    ax_3d.text(reduced_embeddings_3d[i, 0], reduced_embeddings_3d[i, 1], reduced_embeddings_3d[i, 2], txt[:2])\n",
        "\n",
        "ax_3d.set_xlabel(\"PC 1\")\n",
        "ax_3d.set_ylabel(\"PC 2\")\n",
        "ax_3d.set_zlabel(\"PC 3\")\n",
        "ax_3d.set_title(\"3D Visualization of Sentence Embeddings (PCA)\")\n",
        "plt.show()"
      ],
      "metadata": {
        "id": "fySiUjFOCa9P"
      },
      "execution_count": null,
      "outputs": []
    },
    {
      "cell_type": "markdown",
      "source": [
        "### 6.2 3D PCA rotational with P-tet\n",
        "\n",
        "Question domain is illustrated in P-tet. Choices relation to Prompt-Question is shown by the distance from Choice to P-tet."
      ],
      "metadata": {
        "id": "dnOCVriiwN5H"
      }
    },
    {
      "cell_type": "code",
      "source": [
        "import plotly.graph_objects as go\n",
        "import numpy as np\n",
        "from sklearn.decomposition import PCA\n",
        "\n",
        "labels = [s[:2] for s in sentences]  # Get first two letters.\n",
        "\n",
        "# Perform PCA to reduce to 3 dimensions\n",
        "pca_3d = PCA(n_components=3)\n",
        "reduced_embeddings_3d = pca_3d.fit_transform(embeddings)\n",
        "\n",
        "# Directly define the indices, assuming P1, P2, P3, Q? are at indices 1, 2, 3, and 4\n",
        "p1_index = 1\n",
        "p2_index = 2\n",
        "p3_index = 3\n",
        "q_index = 4\n",
        "\n",
        "# Extract the 3D coordinates of P1, P2, P3, and Q?\n",
        "p1_coords = reduced_embeddings_3d[p1_index]\n",
        "p2_coords = reduced_embeddings_3d[p2_index]\n",
        "p3_coords = reduced_embeddings_3d[p3_index]\n",
        "q_coords = reduced_embeddings_3d[q_index]\n",
        "\n",
        "# Define the vertices of the tetrahedron\n",
        "tetrahedron_vertices = np.array([p1_coords, p2_coords, p3_coords, q_coords])\n",
        "\n",
        "# Define the edges of the tetrahedron (indices of vertices)\n",
        "tetrahedron_edges = [\n",
        "    (0, 1), (0, 2), (0, 3),  # Edges from P1 to P2, P3, Q?\n",
        "    (1, 2), (1, 3),          # Edges from P2 to P3, Q?\n",
        "    (2, 3)                   # Edge from P3 to Q?\n",
        "]\n",
        "\n",
        "# Create the lines for the tetrahedron edges\n",
        "lines = []\n",
        "for i, (start_index, end_index) in enumerate(tetrahedron_edges):\n",
        "    start_point = tetrahedron_vertices[start_index]\n",
        "    end_point = tetrahedron_vertices[end_index]\n",
        "    lines.append(\n",
        "        go.Scatter3d(\n",
        "            x=[start_point[0], end_point[0]],\n",
        "            y=[start_point[1], end_point[1]],\n",
        "            z=[start_point[2], end_point[2]],\n",
        "            mode='lines',\n",
        "            line=dict(color='red', width=4),  # Style the lines\n",
        "            name=f'Edge {i+1}'\n",
        "        )\n",
        "    )\n",
        "\n",
        "# Create the 3D scatter plot and add the lines\n",
        "fig = go.Figure(data=[go.Scatter3d(\n",
        "    x=reduced_embeddings_3d[:, 0],\n",
        "    y=reduced_embeddings_3d[:, 1],\n",
        "    z=reduced_embeddings_3d[:, 2],\n",
        "    mode='markers+text',\n",
        "    text=labels,  # Use first 2 characters of labels\n",
        "    textposition=\"middle right\",\n",
        "    marker=dict(size=8),\n",
        "    name='Data Points'\n",
        ")] + lines)  # Combine scatter and lines\n",
        "\n",
        "# Set the title and axis labels\n",
        "fig.update_layout(\n",
        "    title=\"3D PCA Visualization with Tetrahedron\",\n",
        "    scene=dict(\n",
        "        xaxis_title=\"PC 1\",\n",
        "        yaxis_title=\"PC 2\",\n",
        "        zaxis_title=\"PC 3\",\n",
        "    ),\n",
        "    margin=dict(l=0, r=0, b=0, t=0),\n",
        "    showlegend=True\n",
        ")\n",
        "\n",
        "# Show the plot\n",
        "fig.show()\n",
        "\n"
      ],
      "metadata": {
        "id": "hEAM8I15WJ_K"
      },
      "execution_count": null,
      "outputs": []
    },
    {
      "cell_type": "markdown",
      "source": [
        "### 6.3 3D PCA from multiple angles static\n",
        "\n",
        "In case rotational view above isn't available at temp environment, use multi-angle to illustrate."
      ],
      "metadata": {
        "id": "iGJWUAOfxByM"
      }
    },
    {
      "cell_type": "code",
      "source": [
        "# PCA from multiple angles static views\n",
        "pca_3d = PCA(n_components=3)\n",
        "reduced_embeddings_3d = pca_3d.fit_transform(embeddings)\n",
        "\n",
        "#Create various angles for multiple 3-D rendering\n",
        "elevations = [30, 30, 0, -30]  # Angles of elevation\n",
        "azim_angles = [0, 45, 90, 135] # Azimuthal angles\n",
        "\n",
        "for i, (elev, azim) in enumerate(zip(elevations, azim_angles)):\n",
        "    fig = plt.figure(figsize=(8, 6))\n",
        "    ax = fig.add_subplot(111, projection='3d')\n",
        "    ax.scatter(reduced_embeddings_3d[:, 0], reduced_embeddings_3d[:, 1], reduced_embeddings_3d[:, 2])\n",
        "    for j, txt in enumerate(sentences):\n",
        "        ax.text(reduced_embeddings_3d[j, 0], reduced_embeddings_3d[j, 1], reduced_embeddings_3d[j, 2], txt[:2])\n",
        "    ax.set_xlabel(\"PC 1\")\n",
        "    ax.set_ylabel(\"PC 2\")\n",
        "    ax.set_zlabel(\"PC 3\")\n",
        "    ax.view_init(elev=elev, azim=azim)\n",
        "    plt.title(f\"3D Plot (Elev={elev}, Azim={azim})\")\n",
        "    plt.show()"
      ],
      "metadata": {
        "id": "qzJJQ2qd59hZ"
      },
      "execution_count": null,
      "outputs": []
    },
    {
      "cell_type": "markdown",
      "source": [
        "## 7. Using t-SNE for Dimensionality Reduction\n",
        "\n",
        "**t-SNE** = t-distributed stochastic neighbor embedding. Unlike **PCA**, **t-SNE** demonstrate the embeddings in non-linear more scattered fashion.\n"
      ],
      "metadata": {
        "id": "E2N5RVTwCs8v"
      }
    },
    {
      "cell_type": "markdown",
      "source": [
        "### 7.1 2D t-SNE"
      ],
      "metadata": {
        "id": "ZKd0J7HaxlFj"
      }
    },
    {
      "cell_type": "code",
      "source": [
        "from sklearn.manifold import TSNE\n",
        "import matplotlib.pyplot as plt\n",
        "\n",
        "# Reduce to 2 dimensions using t-SNE with a lower perplexity\n",
        "tsne_2d = TSNE(n_components=2, random_state=42, n_iter=300, perplexity=min(5, len(sentences) - 1)) # Set perplexity <= 5 or n_samples - 1\n",
        "reduced_embeddings_tsne_2d = tsne_2d.fit_transform(embeddings)\n",
        "\n",
        "# Visualize the 2D embeddings (t-SNE)\n",
        "plt.figure(figsize=(8, 6))\n",
        "plt.scatter(reduced_embeddings_tsne_2d[:, 0], reduced_embeddings_tsne_2d[:, 1])\n",
        "\n",
        "# Annotate each point with the corresponding sentence\n",
        "for i, txt in enumerate(sentences):\n",
        "    plt.annotate(txt[:2], (reduced_embeddings_tsne_2d[i, 0], reduced_embeddings_tsne_2d[i, 1]))\n",
        "\n",
        "plt.title(\"2D Visualization of Sentence Embeddings (t-SNE)\")\n",
        "plt.xlabel(\"t-SNE D1\")\n",
        "plt.ylabel(\"t-SNE D2\")\n",
        "plt.grid(True)\n",
        "plt.show()"
      ],
      "metadata": {
        "id": "8lgTh7bOEX6t"
      },
      "execution_count": null,
      "outputs": []
    },
    {
      "cell_type": "markdown",
      "source": [
        "###7.2 3D t-SNE static"
      ],
      "metadata": {
        "id": "NgbblG8Mxsy6"
      }
    },
    {
      "cell_type": "code",
      "source": [
        "from sklearn.manifold import TSNE\n",
        "import matplotlib.pyplot as plt\n",
        "from mpl_toolkits.mplot3d import Axes3D\n",
        "\n",
        "# Reduce to 3 dimensions using t-SNE with a lower perplexity\n",
        "tsne_3d = TSNE(n_components=3, random_state=42, n_iter=300, perplexity=min(5, len(sentences) - 1))\n",
        "reduced_embeddings_tsne_3d = tsne_3d.fit_transform(embeddings)\n",
        "\n",
        "# Visualize the 3D embeddings\n",
        "fig_3d = plt.figure(figsize=(4, 3))\n",
        "ax_3d = fig_3d.add_subplot(111, projection='3d')\n",
        "scatter_3d = ax_3d.scatter(reduced_embeddings_tsne_3d[:, 0], reduced_embeddings_tsne_3d[:, 1], reduced_embeddings_tsne_3d[:, 2])\n",
        "\n",
        "# Annotate each point with the first letter of the sentence\n",
        "for i, txt in enumerate(sentences):\n",
        "    ax_3d.text(reduced_embeddings_tsne_3d[i, 0], reduced_embeddings_tsne_3d[i, 1], reduced_embeddings_tsne_3d[i, 2], txt[:2])\n",
        "\n",
        "ax_3d.set_xlabel(\"t-SNE D1\")\n",
        "ax_3d.set_ylabel(\"t-SNE D2\")\n",
        "ax_3d.set_zlabel(\"t-SNE D3\")\n",
        "ax_3d.set_title(\"3D Visualization of Sentence Embeddings (t-SNE)\")\n",
        "plt.show()"
      ],
      "metadata": {
        "id": "2VoIIlz1E3e0"
      },
      "execution_count": null,
      "outputs": []
    },
    {
      "cell_type": "markdown",
      "source": [
        "###7.3 3D t-SNE rotational"
      ],
      "metadata": {
        "id": "UinugAfyxyO6"
      }
    },
    {
      "cell_type": "code",
      "source": [
        "import plotly.graph_objects as go\n",
        "import numpy as np\n",
        "from sklearn.decomposition import PCA\n",
        "\n",
        "# Assuming you have your data in a variable called 'embeddings'\n",
        "# For example, let's create some dummy data for demonstration:\n",
        "embeddings = np.random.rand(9, 5)  # 9 samples, 5 dimensions\n",
        "sentences = [\n",
        "    \"Pa: Some fuel additives\",\n",
        "    \"P1: Some fuel additives\",\n",
        "    \"P2: In a 2015 study\",\n",
        "    \"P3: While bioaccumulation\",\n",
        "    \"Q?: Which finding\",\n",
        "    \"Ax) When D. polymorpha\",\n",
        "    \"Bv) The rate of CeO2-NPs\",\n",
        "    \"Cx) D.polymorpha has been\",\n",
        "    \"Dx) Compared with O. mykiss\"\n",
        "]\n",
        "labels = [s[:2] for s in sentences]  # Get first two letters.\n",
        "\n",
        "# Perform PCA to reduce to 3 dimensions\n",
        "pca_3d = PCA(n_components=3)\n",
        "reduced_embeddings_tsne_3d = pca_3d.fit_transform(embeddings)\n",
        "\n",
        "# Directly define the indices, assuming P1, P2, P3, Q? are at indices 1, 2, 3, and 4\n",
        "p1_index = 1\n",
        "p2_index = 2\n",
        "p3_index = 3\n",
        "q_index = 4\n",
        "\n",
        "# Extract the 3D coordinates of P1, P2, P3, and Q?\n",
        "p1_coords = reduced_embeddings_tsne_3d[p1_index]\n",
        "p2_coords = reduced_embeddings_tsne_3d[p2_index]\n",
        "p3_coords = reduced_embeddings_tsne_3d[p3_index]\n",
        "q_coords = reduced_embeddings_tsne_3d[q_index]\n",
        "\n",
        "# Define the vertices of the tetrahedron\n",
        "tetrahedron_vertices = np.array([p1_coords, p2_coords, p3_coords, q_coords])\n",
        "\n",
        "# Define the edges of the tetrahedron (indices of vertices)\n",
        "tetrahedron_edges = [\n",
        "    (0, 1), (0, 2), (0, 3),  # Edges from P1 to P2, P3, Q?\n",
        "    (1, 2), (1, 3),          # Edges from P2 to P3, Q?\n",
        "    (2, 3)                   # Edge from P3 to Q?\n",
        "]\n",
        "\n",
        "# Create the lines for the tetrahedron edges\n",
        "lines = []\n",
        "for i, (start_index, end_index) in enumerate(tetrahedron_edges):\n",
        "    start_point = tetrahedron_vertices[start_index]\n",
        "    end_point = tetrahedron_vertices[end_index]\n",
        "    lines.append(\n",
        "        go.Scatter3d(\n",
        "            x=[start_point[0], end_point[0]],\n",
        "            y=[start_point[1], end_point[1]],\n",
        "            z=[start_point[2], end_point[2]],\n",
        "            mode='lines',\n",
        "            line=dict(color='red', width=4),  # Style the lines\n",
        "            name=f'Edge {i+1}'\n",
        "        )\n",
        "    )\n",
        "\n",
        "# Create the 3D scatter plot and add the lines\n",
        "fig = go.Figure(data=[go.Scatter3d(\n",
        "    x=reduced_embeddings_tsne_3d[:, 0],\n",
        "    y=reduced_embeddings_tsne_3d[:, 1],\n",
        "    z=reduced_embeddings_tsne_3d[:, 2],\n",
        "    mode='markers+text',\n",
        "    text=labels,  # Use first 2 characters of labels\n",
        "    textposition=\"middle right\",\n",
        "    marker=dict(size=8),\n",
        "    name='Data Points'\n",
        ")] + lines)  # Combine scatter and lines\n",
        "\n",
        "# Set the title and axis labels\n",
        "fig.update_layout(\n",
        "    title=\"3D PCA Visualization with Tetrahedron\",\n",
        "    scene=dict(\n",
        "        xaxis_title=\"PC 1\",\n",
        "        yaxis_title=\"PC 2\",\n",
        "        zaxis_title=\"PC 3\",\n",
        "    ),\n",
        "    margin=dict(l=0, r=0, b=0, t=0),\n",
        "    showlegend=True\n",
        ")\n",
        "\n",
        "# Show the plot\n",
        "fig.show()\n"
      ],
      "metadata": {
        "id": "Q6Sj8TzBJLyh"
      },
      "execution_count": null,
      "outputs": []
    },
    {
      "cell_type": "markdown",
      "source": [
        "## 8. How about 5-Vs?\n",
        "\n",
        "### 8.1 Initialized 5V (CL 1wk + DR 1wk)\n",
        "\n",
        "Below is a typical preception with inital training/ While erros exist across V2/V3/V4/V5, the student can vaguely see the correct answer Bv from the wrong choices Ax, Cx, and Dx.\n",
        "\n",
        "5Vs---Pa---P1---P2---P3---Q?---Ax---Bv---Cx---Dx---\n",
        "\n",
        "V1-----0-----1-----0------0-----1------0-----1-----0-----1---\n",
        "\n",
        "V2-----1-----0----0.5---1------0-----0----0.5----0-----0---\n",
        "\n",
        "V3-----1-----0----0.5---1-----1------1-----1-----1-----1---\n",
        "\n",
        "V4-----0-----1-----0-----0-----1------0-----1----0.5----1---\n",
        "\n",
        "V5-----0-----1-----0----0.5----0------0-----0-----0-----1---"
      ],
      "metadata": {
        "id": "1Bdv-muoBmlB"
      }
    },
    {
      "cell_type": "code",
      "source": [
        "import numpy as np\n",
        "import pandas as pd\n",
        "import plotly.graph_objects as go\n",
        "from sklearn.decomposition import PCA\n",
        "\n",
        "# Your data as a string (including header row)\n",
        "data_string = \"\"\"datapoint,V1,V2,V3,V4,V5\n",
        "Pa,0,1,1,0,0\n",
        "P1,0,0,0,1,1\n",
        "P2,0,0.5,0.5,0,0\n",
        "P3,0,1,1,0,0.5\n",
        "Q?,1,0,1,1,0\n",
        "Ax,0,0,1,0,0\n",
        "Bv,1,0.5,1,1,0\n",
        "Cx,0,0,1,0.5,0\n",
        "Dx,1,0,1,1,1\n",
        "\"\"\"\n",
        "\n",
        "# Load the data from the string into a Pandas DataFrame\n",
        "from io import StringIO\n",
        "df = pd.read_csv(StringIO(data_string))\n",
        "\n",
        "# Extract the data for PCA (exclude the 'datapoint' column)\n",
        "X = df.iloc[:, 1:].values  # Get values from columns V1 to V5\n",
        "\n",
        "# Extract the datapoint labels\n",
        "labels = df['datapoint'].tolist()\n",
        "\n",
        "# Perform PCA\n",
        "pca = PCA(n_components=3)\n",
        "reduced_data = pca.fit_transform(X)\n",
        "\n",
        "# Get the indices of P1, P2, P3, and Q?\n",
        "p1_index = labels.index('P1')\n",
        "p2_index = labels.index('P2')\n",
        "p3_index = labels.index('P3')\n",
        "q_index = labels.index('Q?')\n",
        "\n",
        "# Extract the 3D coordinates of P1, P2, P3, and Q?\n",
        "p1_coords = reduced_data[p1_index]\n",
        "p2_coords = reduced_data[p2_index]\n",
        "p3_coords = reduced_data[p3_index]\n",
        "q_coords = reduced_data[q_index]\n",
        "\n",
        "# Define the vertices of the tetrahedron\n",
        "tetrahedron_vertices = np.array([p1_coords, p2_coords, p3_coords, q_coords])\n",
        "\n",
        "# Define the edges of the tetrahedron (indices of vertices)\n",
        "tetrahedron_edges = [\n",
        "    (0, 1), (0, 2), (0, 3),  # Edges from P1 to P2, P3, Q?\n",
        "    (1, 2), (1, 3),          # Edges from P2 to P3, Q?\n",
        "    (2, 3)                   # Edge from P3 to Q?\n",
        "]\n",
        "\n",
        "# Create the 3D scatter plot for all points\n",
        "scatter = go.Scatter3d(\n",
        "    x=reduced_data[:, 0],\n",
        "    y=reduced_data[:, 1],\n",
        "    z=reduced_data[:, 2],\n",
        "    mode='markers+text',\n",
        "    text=labels,\n",
        "    textposition=\"middle right\",\n",
        "    marker=dict(size=8),\n",
        "    name='Data Points'  # Add a name for the scatter plot\n",
        ")\n",
        "\n",
        "# Create the lines for the tetrahedron edges\n",
        "lines = []\n",
        "for i, (start_index, end_index) in enumerate(tetrahedron_edges):\n",
        "    start_point = tetrahedron_vertices[start_index]\n",
        "    end_point = tetrahedron_vertices[end_index]\n",
        "    lines.append(\n",
        "        go.Scatter3d(\n",
        "            x=[start_point[0], end_point[0]],\n",
        "            y=[start_point[1], end_point[1]],\n",
        "            z=[start_point[2], end_point[2]],\n",
        "            mode='lines',\n",
        "            line=dict(color='red', width=4),  # Style the lines\n",
        "            name=f'Edge {i+1}' # Add a name for each line.\n",
        "        )\n",
        "    )\n",
        "\n",
        "# Combine scatter and lines\n",
        "data = [scatter] + lines\n",
        "\n",
        "# Set the title and axis labels\n",
        "layout = go.Layout(\n",
        "    title=\"3D PCA of Data with Tetrahedron\",\n",
        "    scene=dict(\n",
        "        xaxis_title=\"PC 1\",\n",
        "        yaxis_title=\"PC 2\",\n",
        "        zaxis_title=\"PC 3\",\n",
        "    ),\n",
        "    margin=dict(l=0, r=0, b=0, t=0),\n",
        "    showlegend=True #show legend\n",
        ")\n",
        "\n",
        "# Create the figure\n",
        "fig = go.Figure(data=data, layout=layout)\n",
        "\n",
        "# Show the plot (this will display an interactive plot in Colab)\n",
        "fig.show()\n"
      ],
      "metadata": {
        "id": "5e3crrvNJ33O"
      },
      "execution_count": null,
      "outputs": []
    },
    {
      "cell_type": "markdown",
      "source": [
        "### 8.2 Well-Trained 5Vs: CL 1wk + DP/BT>=1month\n",
        "\n",
        "Below is a typical preception with 1+month training. Correct answer falls directly into the prompt/question subspace.\n",
        "\n",
        "5Vs---Pa---P1---P2---P3---Q?---Ax---Bv---Cx---Dx---\n",
        "\n",
        "V1-----0-----1-----0------0-----1------0-----1-----0-----1---\n",
        "\n",
        "V2-----1-----0-----1-----1------0------0-----0-----0-----0---\n",
        "\n",
        "V3-----1-----0-----1------1-----1------1-----1-----1-----1---\n",
        "\n",
        "V4-----0-----1-----0-----0-----1------0------1-----1-----1---\n",
        "\n",
        "V5-----0-----1-----0-----1-----0------0------0-----0-----1---"
      ],
      "metadata": {
        "id": "GiE1M_gtFaj8"
      }
    },
    {
      "cell_type": "code",
      "source": [
        "import numpy as np\n",
        "import pandas as pd\n",
        "import plotly.graph_objects as go\n",
        "from sklearn.decomposition import PCA\n",
        "\n",
        "# Your data as a string (including header row)\n",
        "data_string = \"\"\"datapoint,V1,V2,V3,V4,V5\n",
        "Pa,0,1,1,0,1\n",
        "P1,1,0,0,1,1\n",
        "P2,0,1,1,0,0\n",
        "P3,0,1,1,0,1\n",
        "Q?,1,0,1,1,0\n",
        "Ax,0,0,1,0,0\n",
        "Bv,1,0,1,1,0\n",
        "Cx,0,0,1,1,0\n",
        "Dx,1,0,1,1,1\n",
        "\"\"\"\n",
        "\n",
        "# Load the data from the string into a Pandas DataFrame\n",
        "from io import StringIO\n",
        "df = pd.read_csv(StringIO(data_string))\n",
        "\n",
        "# Extract the data for PCA (exclude the 'datapoint' column)\n",
        "X = df.iloc[:, 1:].values  # Get values from columns V1 to V5\n",
        "\n",
        "# Extract the datapoint labels\n",
        "labels = df['datapoint'].tolist()\n",
        "\n",
        "# Perform PCA\n",
        "pca = PCA(n_components=3)\n",
        "reduced_data = pca.fit_transform(X)\n",
        "\n",
        "# Get the indices of P1, P2, P3, and Q?\n",
        "p1_index = labels.index('P1')\n",
        "p2_index = labels.index('P2')\n",
        "p3_index = labels.index('P3')\n",
        "q_index = labels.index('Q?')\n",
        "\n",
        "# Extract the 3D coordinates of P1, P2, P3, and Q?\n",
        "p1_coords = reduced_data[p1_index]\n",
        "p2_coords = reduced_data[p2_index]\n",
        "p3_coords = reduced_data[p3_index]\n",
        "q_coords = reduced_data[q_index]\n",
        "\n",
        "# Define the vertices of the tetrahedron\n",
        "tetrahedron_vertices = np.array([p1_coords, p2_coords, p3_coords, q_coords])\n",
        "\n",
        "# Define the edges of the tetrahedron (indices of vertices)\n",
        "tetrahedron_edges = [\n",
        "    (0, 1), (0, 2), (0, 3),  # Edges from P1 to P2, P3, Q?\n",
        "    (1, 2), (1, 3),          # Edges from P2 to P3, Q?\n",
        "    (2, 3)                   # Edge from P3 to Q?\n",
        "]\n",
        "\n",
        "# Create the 3D scatter plot for all points\n",
        "scatter = go.Scatter3d(\n",
        "    x=reduced_data[:, 0],\n",
        "    y=reduced_data[:, 1],\n",
        "    z=reduced_data[:, 2],\n",
        "    mode='markers+text',\n",
        "    text=labels,\n",
        "    textposition=\"middle right\",\n",
        "    marker=dict(size=8),\n",
        "    name='Data Points'  # Add a name for the scatter plot\n",
        ")\n",
        "\n",
        "# Create the lines for the tetrahedron edges\n",
        "lines = []\n",
        "for i, (start_index, end_index) in enumerate(tetrahedron_edges):\n",
        "    start_point = tetrahedron_vertices[start_index]\n",
        "    end_point = tetrahedron_vertices[end_index]\n",
        "    lines.append(\n",
        "        go.Scatter3d(\n",
        "            x=[start_point[0], end_point[0]],\n",
        "            y=[start_point[1], end_point[1]],\n",
        "            z=[start_point[2], end_point[2]],\n",
        "            mode='lines',\n",
        "            line=dict(color='red', width=4),  # Style the lines\n",
        "            name=f'Edge {i+1}' # Add a name for each line.\n",
        "        )\n",
        "    )\n",
        "\n",
        "# Combine scatter and lines\n",
        "data = [scatter] + lines\n",
        "\n",
        "# Set the title and axis labels\n",
        "layout = go.Layout(\n",
        "    title=\"3D PCA of Data with Tetrahedron\",\n",
        "    scene=dict(\n",
        "        xaxis_title=\"PC 1\",\n",
        "        yaxis_title=\"PC 2\",\n",
        "        zaxis_title=\"PC 3\",\n",
        "    ),\n",
        "    margin=dict(l=0, r=0, b=0, t=0),\n",
        "    showlegend=True #show legend\n",
        ")\n",
        "\n",
        "# Create the figure\n",
        "fig = go.Figure(data=data, layout=layout)\n",
        "\n",
        "# Show the plot (this will display an interactive plot in Colab)\n",
        "fig.show()\n"
      ],
      "metadata": {
        "id": "ampbw-BTFY7e"
      },
      "execution_count": null,
      "outputs": []
    }
  ],
  "metadata": {
    "colab": {
      "name": "LIT in Notebooks",
      "provenance": [],
      "include_colab_link": true
    },
    "kernelspec": {
      "display_name": "Python 3 (ipykernel)",
      "language": "python",
      "name": "python3"
    },
    "language_info": {
      "codemirror_mode": {
        "name": "ipython",
        "version": 3
      },
      "file_extension": ".py",
      "mimetype": "text/x-python",
      "name": "python",
      "nbconvert_exporter": "python",
      "pygments_lexer": "ipython3",
      "version": "3.9.15"
    }
  },
  "nbformat": 4,
  "nbformat_minor": 0
}